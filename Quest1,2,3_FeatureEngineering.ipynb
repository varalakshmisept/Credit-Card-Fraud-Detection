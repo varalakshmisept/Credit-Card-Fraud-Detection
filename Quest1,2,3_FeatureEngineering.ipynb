{
 "cells": [
  {
   "cell_type": "code",
   "execution_count": 134,
   "metadata": {
    "id": "z3slyeO2UW43"
   },
   "outputs": [],
   "source": [
    "import json\n",
    "import pandas as pd\n",
    "import urllib.request\n",
    "import zipfile\n",
    "import ast\n",
    "import numpy as np\n",
    "import matplotlib.pyplot as plt\n",
    "import seaborn as sns"
   ]
  },
  {
   "cell_type": "code",
   "execution_count": 135,
   "metadata": {
    "id": "VNCDrNgTUZxt"
   },
   "outputs": [],
   "source": [
    "import warnings\n",
    "warnings.filterwarnings(\"ignore\")"
   ]
  },
  {
   "cell_type": "markdown",
   "metadata": {
    "id": "UlTZtjx9Uc5O"
   },
   "source": [
    "# Question 1\n",
    "1. Programmatically download and load into your favorite analytical tool the transactions data.\n",
    "2. Please describe the structure of the data. Number of records and fields in each record?\n",
    "3. Please provide some additional basic summary statistics for each field. Be sure to include a count of null, minimum, maximum, and unique values where appropriate.\n",
    "\n"
   ]
  },
  {
   "cell_type": "markdown",
   "metadata": {
    "id": "GXoChk6rUZjA"
   },
   "source": [
    "### 1. Downloading and loading the dataset into dataframe"
   ]
  },
  {
   "cell_type": "code",
   "execution_count": 136,
   "metadata": {
    "id": "_EoB-NA1Ua-V"
   },
   "outputs": [],
   "source": [
    "# loading the dataset\n",
    "url_data, fname = urllib.request.urlretrieve('https://github.com/CapitalOneRecruiting/DS/blob/master/transactions.zip?raw=true', filename = 'transactions.zip')\n",
    "# loading the zipfile\n",
    "dataFile = zipfile.ZipFile(url_data, 'r')\n",
    "# reading the data from zipfile\n",
    "zipinfo = dataFile.infolist()\n",
    "data = dataFile.open(zipinfo[0].filename).read().splitlines()\n",
    "# converting the json data into csv\n",
    "df = pd.DataFrame(data)"
   ]
  },
  {
   "cell_type": "code",
   "execution_count": 137,
   "metadata": {
    "colab": {
     "base_uri": "https://localhost:8080/",
     "height": 203
    },
    "id": "552JnzOsUe40",
    "outputId": "b75f40d1-fdfb-4c2b-a9d6-056a7b80a9ad"
   },
   "outputs": [
    {
     "data": {
      "text/html": [
       "<div>\n",
       "<style scoped>\n",
       "    .dataframe tbody tr th:only-of-type {\n",
       "        vertical-align: middle;\n",
       "    }\n",
       "\n",
       "    .dataframe tbody tr th {\n",
       "        vertical-align: top;\n",
       "    }\n",
       "\n",
       "    .dataframe thead th {\n",
       "        text-align: right;\n",
       "    }\n",
       "</style>\n",
       "<table border=\"1\" class=\"dataframe\">\n",
       "  <thead>\n",
       "    <tr style=\"text-align: right;\">\n",
       "      <th></th>\n",
       "      <th>0</th>\n",
       "    </tr>\n",
       "  </thead>\n",
       "  <tbody>\n",
       "    <tr>\n",
       "      <th>0</th>\n",
       "      <td>{\"accountNumber\": \"737265056\", \"customerId\": \"...</td>\n",
       "    </tr>\n",
       "    <tr>\n",
       "      <th>1</th>\n",
       "      <td>{\"accountNumber\": \"737265056\", \"customerId\": \"...</td>\n",
       "    </tr>\n",
       "    <tr>\n",
       "      <th>2</th>\n",
       "      <td>{\"accountNumber\": \"737265056\", \"customerId\": \"...</td>\n",
       "    </tr>\n",
       "    <tr>\n",
       "      <th>3</th>\n",
       "      <td>{\"accountNumber\": \"737265056\", \"customerId\": \"...</td>\n",
       "    </tr>\n",
       "    <tr>\n",
       "      <th>4</th>\n",
       "      <td>{\"accountNumber\": \"830329091\", \"customerId\": \"...</td>\n",
       "    </tr>\n",
       "  </tbody>\n",
       "</table>\n",
       "</div>"
      ],
      "text/plain": [
       "                                                   0\n",
       "0  {\"accountNumber\": \"737265056\", \"customerId\": \"...\n",
       "1  {\"accountNumber\": \"737265056\", \"customerId\": \"...\n",
       "2  {\"accountNumber\": \"737265056\", \"customerId\": \"...\n",
       "3  {\"accountNumber\": \"737265056\", \"customerId\": \"...\n",
       "4  {\"accountNumber\": \"830329091\", \"customerId\": \"..."
      ]
     },
     "execution_count": 137,
     "metadata": {},
     "output_type": "execute_result"
    }
   ],
   "source": [
    "# converting the byte type of column to string in the df\n",
    "df = df.applymap(lambda x: x.decode() if isinstance(x, bytes) else x)\n",
    "df = pd.DataFrame.from_dict(df, orient='columns')\n",
    "df.head()"
   ]
  },
  {
   "cell_type": "code",
   "execution_count": 138,
   "metadata": {
    "colab": {
     "base_uri": "https://localhost:8080/",
     "height": 130
    },
    "id": "O4dbzzb5UjSJ",
    "outputId": "292937e4-8f38-41ab-8701-b3332d069f2c"
   },
   "outputs": [
    {
     "data": {
      "text/html": [
       "<div>\n",
       "<style scoped>\n",
       "    .dataframe tbody tr th:only-of-type {\n",
       "        vertical-align: middle;\n",
       "    }\n",
       "\n",
       "    .dataframe tbody tr th {\n",
       "        vertical-align: top;\n",
       "    }\n",
       "\n",
       "    .dataframe thead th {\n",
       "        text-align: right;\n",
       "    }\n",
       "</style>\n",
       "<table border=\"1\" class=\"dataframe\">\n",
       "  <thead>\n",
       "    <tr style=\"text-align: right;\">\n",
       "      <th></th>\n",
       "      <th>accountNumber</th>\n",
       "      <th>customerId</th>\n",
       "      <th>creditLimit</th>\n",
       "      <th>availableMoney</th>\n",
       "      <th>transactionDateTime</th>\n",
       "      <th>transactionAmount</th>\n",
       "      <th>merchantName</th>\n",
       "      <th>acqCountry</th>\n",
       "      <th>merchantCountryCode</th>\n",
       "      <th>posEntryMode</th>\n",
       "      <th>...</th>\n",
       "      <th>echoBuffer</th>\n",
       "      <th>currentBalance</th>\n",
       "      <th>merchantCity</th>\n",
       "      <th>merchantState</th>\n",
       "      <th>merchantZip</th>\n",
       "      <th>cardPresent</th>\n",
       "      <th>posOnPremises</th>\n",
       "      <th>recurringAuthInd</th>\n",
       "      <th>expirationDateKeyInMatch</th>\n",
       "      <th>isFraud</th>\n",
       "    </tr>\n",
       "  </thead>\n",
       "  <tbody>\n",
       "    <tr>\n",
       "      <th>0</th>\n",
       "      <td>737265056</td>\n",
       "      <td>737265056</td>\n",
       "      <td>5000.000</td>\n",
       "      <td>5000.000</td>\n",
       "      <td>2016-08-13T14:27:32</td>\n",
       "      <td>98.550</td>\n",
       "      <td>Uber</td>\n",
       "      <td>US</td>\n",
       "      <td>US</td>\n",
       "      <td>02</td>\n",
       "      <td>...</td>\n",
       "      <td></td>\n",
       "      <td>0.000</td>\n",
       "      <td></td>\n",
       "      <td></td>\n",
       "      <td></td>\n",
       "      <td>False</td>\n",
       "      <td></td>\n",
       "      <td></td>\n",
       "      <td>False</td>\n",
       "      <td>False</td>\n",
       "    </tr>\n",
       "    <tr>\n",
       "      <th>1</th>\n",
       "      <td>737265056</td>\n",
       "      <td>737265056</td>\n",
       "      <td>5000.000</td>\n",
       "      <td>5000.000</td>\n",
       "      <td>2016-10-11T05:05:54</td>\n",
       "      <td>74.510</td>\n",
       "      <td>AMC #191138</td>\n",
       "      <td>US</td>\n",
       "      <td>US</td>\n",
       "      <td>09</td>\n",
       "      <td>...</td>\n",
       "      <td></td>\n",
       "      <td>0.000</td>\n",
       "      <td></td>\n",
       "      <td></td>\n",
       "      <td></td>\n",
       "      <td>True</td>\n",
       "      <td></td>\n",
       "      <td></td>\n",
       "      <td>False</td>\n",
       "      <td>False</td>\n",
       "    </tr>\n",
       "  </tbody>\n",
       "</table>\n",
       "<p>2 rows × 29 columns</p>\n",
       "</div>"
      ],
      "text/plain": [
       "  accountNumber customerId  creditLimit  availableMoney  transactionDateTime  \\\n",
       "0     737265056  737265056     5000.000        5000.000  2016-08-13T14:27:32   \n",
       "1     737265056  737265056     5000.000        5000.000  2016-10-11T05:05:54   \n",
       "\n",
       "   transactionAmount merchantName acqCountry merchantCountryCode posEntryMode  \\\n",
       "0             98.550         Uber         US                  US           02   \n",
       "1             74.510  AMC #191138         US                  US           09   \n",
       "\n",
       "   ... echoBuffer currentBalance merchantCity merchantState merchantZip  \\\n",
       "0  ...                     0.000                                          \n",
       "1  ...                     0.000                                          \n",
       "\n",
       "  cardPresent posOnPremises recurringAuthInd expirationDateKeyInMatch isFraud  \n",
       "0       False                                                   False   False  \n",
       "1        True                                                   False   False  \n",
       "\n",
       "[2 rows x 29 columns]"
      ]
     },
     "execution_count": 138,
     "metadata": {},
     "output_type": "execute_result"
    }
   ],
   "source": [
    "# Parsing the dictionaries in each row\n",
    "l1 = df[0].values\n",
    "data = map(lambda x: json.loads(x), l1)\n",
    "df2 = pd.DataFrame(data)\n",
    "df = df2\n",
    "df2.head(2)"
   ]
  },
  {
   "cell_type": "markdown",
   "metadata": {
    "id": "udPDOb8_UVRX"
   },
   "source": [
    "### 2.  structure of the record"
   ]
  },
  {
   "cell_type": "code",
   "execution_count": 139,
   "metadata": {
    "colab": {
     "base_uri": "https://localhost:8080/"
    },
    "id": "ir483ot3UlQ-",
    "outputId": "a7805214-6bb6-466f-df55-ce11a0b797c2"
   },
   "outputs": [
    {
     "name": "stdout",
     "output_type": "stream",
     "text": [
      "Number of Records in the dataset are: 786363  Number of columns in the dataset are: 29\n"
     ]
    }
   ],
   "source": [
    "print('Number of Records in the dataset are: '+str(df.shape[0])+'  Number of columns in the dataset are: '+str(df.shape[1]))"
   ]
  },
  {
   "cell_type": "code",
   "execution_count": 140,
   "metadata": {
    "colab": {
     "base_uri": "https://localhost:8080/"
    },
    "id": "D8v9_SLIUnND",
    "outputId": "4dfda16d-7962-4539-d4fc-a82148d11adf"
   },
   "outputs": [
    {
     "data": {
      "text/plain": [
       "(0, 29)"
      ]
     },
     "execution_count": 140,
     "metadata": {},
     "output_type": "execute_result"
    }
   ],
   "source": [
    "# Checking for Duplicate records\n",
    "duplicateRowsDF = df[df.duplicated()]\n",
    "duplicateRowsDF.shape\n",
    "# There are no duplicate records in the dataset"
   ]
  },
  {
   "cell_type": "markdown",
   "metadata": {
    "id": "SGvwcI5lUSP4"
   },
   "source": [
    "###3. summary statistics"
   ]
  },
  {
   "cell_type": "code",
   "execution_count": 141,
   "metadata": {
    "colab": {
     "base_uri": "https://localhost:8080/"
    },
    "id": "dkgjV2feUonI",
    "outputId": "e9e50bee-9596-4ac4-f34b-958294d21970"
   },
   "outputs": [
    {
     "data": {
      "text/plain": [
       "accountNumber                    0\n",
       "customerId                       0\n",
       "creditLimit                      0\n",
       "availableMoney                   0\n",
       "transactionDateTime              0\n",
       "transactionAmount                0\n",
       "merchantName                     0\n",
       "acqCountry                    4562\n",
       "merchantCountryCode            724\n",
       "posEntryMode                  4054\n",
       "posConditionCode               409\n",
       "merchantCategoryCode             0\n",
       "currentExpDate                   0\n",
       "accountOpenDate                  0\n",
       "dateOfLastAddressChange          0\n",
       "cardCVV                          0\n",
       "enteredCVV                       0\n",
       "cardLast4Digits                  0\n",
       "transactionType                698\n",
       "echoBuffer                  786363\n",
       "currentBalance                   0\n",
       "merchantCity                786363\n",
       "merchantState               786363\n",
       "merchantZip                 786363\n",
       "cardPresent                      0\n",
       "posOnPremises               786363\n",
       "recurringAuthInd            786363\n",
       "expirationDateKeyInMatch         0\n",
       "isFraud                          0\n",
       "dtype: int64"
      ]
     },
     "execution_count": 141,
     "metadata": {},
     "output_type": "execute_result"
    }
   ],
   "source": [
    "# replacing empty spaces with null\n",
    "df = df.replace(r'^\\s*$', np.NaN, regex=True)\n",
    "df.isna().sum()"
   ]
  },
  {
   "cell_type": "code",
   "execution_count": 142,
   "metadata": {
    "colab": {
     "base_uri": "https://localhost:8080/"
    },
    "id": "2dEhQb2RUqAK",
    "outputId": "6c7d06eb-2ff6-4ee4-a275-dc44cf69fa29"
   },
   "outputs": [
    {
     "data": {
      "text/plain": [
       "(786363, 23)"
      ]
     },
     "execution_count": 142,
     "metadata": {},
     "output_type": "execute_result"
    }
   ],
   "source": [
    "# The columns echoBuffer, merchantCity, merchantState, merchantZip, posOnPremises and recurringAuthInd have 100% of data missing. \n",
    "# So, these columns are dropped from the dataset. \n",
    "df = df.drop(columns = ['echoBuffer','merchantCity','merchantState','merchantState','merchantZip','posOnPremises','recurringAuthInd'])\n",
    "df.shape"
   ]
  },
  {
   "cell_type": "code",
   "execution_count": 143,
   "metadata": {
    "colab": {
     "base_uri": "https://localhost:8080/"
    },
    "id": "Q1L3tchvUrsn",
    "outputId": "2f4b9cec-9f6b-480f-8b20-150e77e2a737"
   },
   "outputs": [
    {
     "name": "stdout",
     "output_type": "stream",
     "text": [
      "Total Unique Number of Accounts: 5000\n",
      "Total Number of Customers: 5000\n",
      "Different Type of transactions: ['PURCHASE' 'ADDRESS_VERIFICATION' 'REVERSAL' nan]\n",
      "Total number of different Merchants are: 2490\n",
      "Different Types of POS entry modes: ['02' '09' '05' '80' '90' nan]\n",
      "Different Types of POS condition modes: ['01' '08' '99' nan]\n",
      "Acquirers Country ['US' nan 'CAN' 'MEX' 'PR']\n",
      "Merchant Country Code['US' 'CAN' nan 'PR' 'MEX']\n",
      "Merchant Category Code ['rideshare' 'entertainment' 'mobileapps' 'fastfood' 'food_delivery'\n",
      " 'auto' 'online_retail' 'gym' 'health' 'personal care' 'food' 'fuel'\n",
      " 'online_subscriptions' 'online_gifts' 'hotels' 'airline' 'furniture'\n",
      " 'subscriptions' 'cable/phone']\n"
     ]
    }
   ],
   "source": [
    "print('Total Unique Number of Accounts: '+str(df['accountNumber'].nunique()))\n",
    "print('Total Number of Customers: '+str(df['customerId'].nunique()))\n",
    "# So, each customer has only 1 account \n",
    "print('Different Type of transactions: '+str(df['transactionType'].unique()))\n",
    "print('Total number of different Merchants are: '+str(df['merchantName'].nunique()))\n",
    "print('Different Types of POS entry modes: '+str(df['posEntryMode'].unique()))\n",
    "print('Different Types of POS condition modes: '+str(df['posConditionCode'].unique()))\n",
    "print('Acquirers Country '+str(df['acqCountry'].unique()))\n",
    "print('Merchant Country Code'+str(df['merchantCountryCode'].unique()))\n",
    "print('Merchant Category Code '+str(df['merchantCategoryCode'].unique()))"
   ]
  },
  {
   "cell_type": "code",
   "execution_count": 144,
   "metadata": {
    "colab": {
     "base_uri": "https://localhost:8080/",
     "height": 295
    },
    "id": "s3fUlDocUtUO",
    "outputId": "c398d9da-b080-4d73-c3b9-6babbbb787c3"
   },
   "outputs": [
    {
     "data": {
      "text/html": [
       "<div>\n",
       "<style scoped>\n",
       "    .dataframe tbody tr th:only-of-type {\n",
       "        vertical-align: middle;\n",
       "    }\n",
       "\n",
       "    .dataframe tbody tr th {\n",
       "        vertical-align: top;\n",
       "    }\n",
       "\n",
       "    .dataframe thead th {\n",
       "        text-align: right;\n",
       "    }\n",
       "</style>\n",
       "<table border=\"1\" class=\"dataframe\">\n",
       "  <thead>\n",
       "    <tr style=\"text-align: right;\">\n",
       "      <th></th>\n",
       "      <th>creditLimit</th>\n",
       "      <th>availableMoney</th>\n",
       "      <th>transactionAmount</th>\n",
       "      <th>currentBalance</th>\n",
       "    </tr>\n",
       "  </thead>\n",
       "  <tbody>\n",
       "    <tr>\n",
       "      <th>count</th>\n",
       "      <td>786363.000</td>\n",
       "      <td>786363.000</td>\n",
       "      <td>786363.000</td>\n",
       "      <td>786363.000</td>\n",
       "    </tr>\n",
       "    <tr>\n",
       "      <th>mean</th>\n",
       "      <td>10759.464</td>\n",
       "      <td>6250.725</td>\n",
       "      <td>136.986</td>\n",
       "      <td>4508.739</td>\n",
       "    </tr>\n",
       "    <tr>\n",
       "      <th>std</th>\n",
       "      <td>11636.175</td>\n",
       "      <td>8880.784</td>\n",
       "      <td>147.726</td>\n",
       "      <td>6457.442</td>\n",
       "    </tr>\n",
       "    <tr>\n",
       "      <th>min</th>\n",
       "      <td>250.000</td>\n",
       "      <td>-1005.630</td>\n",
       "      <td>0.000</td>\n",
       "      <td>0.000</td>\n",
       "    </tr>\n",
       "    <tr>\n",
       "      <th>25%</th>\n",
       "      <td>5000.000</td>\n",
       "      <td>1077.420</td>\n",
       "      <td>33.650</td>\n",
       "      <td>689.910</td>\n",
       "    </tr>\n",
       "    <tr>\n",
       "      <th>50%</th>\n",
       "      <td>7500.000</td>\n",
       "      <td>3184.860</td>\n",
       "      <td>87.900</td>\n",
       "      <td>2451.760</td>\n",
       "    </tr>\n",
       "    <tr>\n",
       "      <th>75%</th>\n",
       "      <td>15000.000</td>\n",
       "      <td>7500.000</td>\n",
       "      <td>191.480</td>\n",
       "      <td>5291.095</td>\n",
       "    </tr>\n",
       "    <tr>\n",
       "      <th>max</th>\n",
       "      <td>50000.000</td>\n",
       "      <td>50000.000</td>\n",
       "      <td>2011.540</td>\n",
       "      <td>47498.810</td>\n",
       "    </tr>\n",
       "  </tbody>\n",
       "</table>\n",
       "</div>"
      ],
      "text/plain": [
       "       creditLimit  availableMoney  transactionAmount  currentBalance\n",
       "count   786363.000      786363.000         786363.000      786363.000\n",
       "mean     10759.464        6250.725            136.986        4508.739\n",
       "std      11636.175        8880.784            147.726        6457.442\n",
       "min        250.000       -1005.630              0.000           0.000\n",
       "25%       5000.000        1077.420             33.650         689.910\n",
       "50%       7500.000        3184.860             87.900        2451.760\n",
       "75%      15000.000        7500.000            191.480        5291.095\n",
       "max      50000.000       50000.000           2011.540       47498.810"
      ]
     },
     "execution_count": 144,
     "metadata": {},
     "output_type": "execute_result"
    }
   ],
   "source": [
    "# description of numerical attributes\n",
    "# pd.set_option - formats the float number\n",
    "pd.set_option('display.float_format', lambda x: '%.3f' % x)\n",
    "temp = df[['creditLimit','availableMoney','transactionAmount','currentBalance']]\n",
    "temp.describe()"
   ]
  },
  {
   "cell_type": "code",
   "execution_count": 145,
   "metadata": {
    "colab": {
     "base_uri": "https://localhost:8080/",
     "height": 623
    },
    "id": "_XbN6ZAWUuqg",
    "outputId": "ebe62f3a-5238-46c9-af3b-73ab72706460"
   },
   "outputs": [
    {
     "data": {
      "text/plain": [
       "<matplotlib.axes._subplots.AxesSubplot at 0x19776b947c8>"
      ]
     },
     "execution_count": 145,
     "metadata": {},
     "output_type": "execute_result"
    },
    {
     "data": {
      "image/png": "[encoded data removed]",
      "text/plain": [
       "<Figure size 576x720 with 1 Axes>"
      ]
     },
     "metadata": {},
     "output_type": "display_data"
    }
   ],
   "source": [
    "#From the plot, it can said that the transaction amount of fraud transaction are higher compared to non-fraud ones. \n",
    "plt.figure(figsize=(8,10))\n",
    "sns.boxplot(x='isFraud', y='transactionAmount', data=df)"
   ]
  },
  {
   "cell_type": "markdown",
   "metadata": {
    "id": "BrGFy8_RUyUw"
   },
   "source": [
    "# Question 2\n",
    "1. Plot a histogram of the processed amounts of each transaction, the transaction Amount\n",
    "2. Report any structure you find and any hypotheses you have about that structure"
   ]
  },
  {
   "cell_type": "code",
   "execution_count": 146,
   "metadata": {
    "colab": {
     "base_uri": "https://localhost:8080/",
     "height": 530
    },
    "id": "L6Cews0LUwDQ",
    "outputId": "05852de2-b860-4c40-dea1-974b90e6cc39"
   },
   "outputs": [
    {
     "data": {
      "text/plain": [
       "[]"
      ]
     },
     "execution_count": 146,
     "metadata": {},
     "output_type": "execute_result"
    },
    {
     "data": {
      "image/png": "[encoded data removed]",
      "text/plain": [
       "<Figure size 720x576 with 1 Axes>"
      ]
     },
     "metadata": {},
     "output_type": "display_data"
    }
   ],
   "source": [
    "# plot a histogram of processed amount of each transaction. transaction column\n",
    "plt.figure(figsize=(10,8))\n",
    "plt.hist(df['transactionAmount'], bins = 50)\n",
    "plt.xlabel('Transaction Amount')\n",
    "plt.ylabel('Frequency')\n",
    "plt.title('Histogram of processed transaction')\n",
    "plt.plot()"
   ]
  },
  {
   "cell_type": "code",
   "execution_count": 147,
   "metadata": {
    "colab": {
     "base_uri": "https://localhost:8080/",
     "height": 312
    },
    "id": "-PKXS4c3Uz41",
    "outputId": "20038bc0-ccbe-432c-bc1b-d6c7813df1df"
   },
   "outputs": [
    {
     "data": {
      "text/plain": [
       "[]"
      ]
     },
     "execution_count": 147,
     "metadata": {},
     "output_type": "execute_result"
    },
    {
     "data": {
      "image/png": "[encoded data removed]",
      "text/plain": [
       "<Figure size 432x288 with 1 Axes>"
      ]
     },
     "metadata": {},
     "output_type": "display_data"
    }
   ],
   "source": [
    "# The histogram is skewed right\n",
    "valAmount = df[df['transactionAmount']<800]\n",
    "plt.hist(valAmount['transactionAmount'], density = True, bins = 25)\n",
    "plt.xlabel('Transaction Amount')\n",
    "plt.ylabel('Frequency')\n",
    "plt.title('Histogram of processed transaction')\n",
    "plt.plot()\n",
    " "
   ]
  },
  {
   "cell_type": "markdown",
   "metadata": {
    "id": "T0zDaskFYUJv"
   },
   "source": [
    "###### Answer: \n",
    "##### The graph is plotted, with transaction amount on x-axis and its frequency on y-axis. The range of the transaction amount is between 0-2000. Most of the transactions have amount between 0-800. 53% of transaction amounts are between 0-100 and 99% of transaction amounts are between 0-800$. "
   ]
  },
  {
   "cell_type": "code",
   "execution_count": 148,
   "metadata": {
    "colab": {
     "base_uri": "https://localhost:8080/"
    },
    "id": "wdpwtdLKU1sg",
    "outputId": "33eec984-5d96-4406-fc39-4d6c276add95"
   },
   "outputs": [
    {
     "data": {
      "text/plain": [
       "(782930, 23)"
      ]
     },
     "execution_count": 148,
     "metadata": {},
     "output_type": "execute_result"
    }
   ],
   "source": [
    "df[df['transactionAmount']<800].shape"
   ]
  },
  {
   "cell_type": "markdown",
   "metadata": {
    "id": "P6lvZarkY7aj"
   },
   "source": [
    "###### Data Exploration"
   ]
  },
  {
   "cell_type": "code",
   "execution_count": 149,
   "metadata": {
    "id": "jmawe5t3U3TO"
   },
   "outputs": [],
   "source": [
    "# Data Exploration\n",
    "def category_exploration(colval,df):\n",
    "    x = df.groupby([colval,'isFraud']).size().rename(\"count\")\n",
    "    y = pd.DataFrame(x/x.groupby(level = 0).sum()).reset_index()\n",
    "    sns.set_style('darkgrid')\n",
    "    if colval == 'merchantCategoryCode':\n",
    "        plt.figure(figsize=(18,8))\n",
    "    else:\n",
    "        plt.figure(figsize=(8,6))\n",
    "\n",
    "    temp = y[y['isFraud']==True]\n",
    "    temp[colval] = temp[colval].astype(str)\n",
    "    temp = temp.sort_values('count')\n",
    "    plt.bar(temp[colval],temp['count'])\n",
    "    plt.xlabel(colval)\n",
    "    plt.ylabel('percentage of Fraud Transactions')"
   ]
  },
  {
   "cell_type": "code",
   "execution_count": 150,
   "metadata": {
    "colab": {
     "base_uri": "https://localhost:8080/",
     "height": 389
    },
    "id": "SqEJ24beU5De",
    "outputId": "afc34154-4b28-4350-908a-7532051df0d4"
   },
   "outputs": [
    {
     "data": {
      "image/png": "[encoded data removed]",
      "text/plain": [
       "<Figure size 576x432 with 1 Axes>"
      ]
     },
     "metadata": {},
     "output_type": "display_data"
    }
   ],
   "source": [
    "category_exploration('transactionType', df)"
   ]
  },
  {
   "cell_type": "code",
   "execution_count": 151,
   "metadata": {
    "colab": {
     "base_uri": "https://localhost:8080/",
     "height": 388
    },
    "id": "7XsTJDV9U6co",
    "outputId": "4c1dbf02-b1fd-4adf-b469-49aa79c218bd"
   },
   "outputs": [
    {
     "data": {
      "image/png": "[encoded data removed]",
      "text/plain": [
       "<Figure size 576x432 with 1 Axes>"
      ]
     },
     "metadata": {},
     "output_type": "display_data"
    }
   ],
   "source": [
    "category_exploration('acqCountry', df)"
   ]
  },
  {
   "cell_type": "code",
   "execution_count": 152,
   "metadata": {
    "colab": {
     "base_uri": "https://localhost:8080/",
     "height": 388
    },
    "id": "D2A-48DaU8ZC",
    "outputId": "b3ddc8e0-a9c9-4788-dfdd-d3d04645029c"
   },
   "outputs": [
    {
     "data": {
      "image/png": "[encoded data removed]",
      "text/plain": [
       "<Figure size 576x432 with 1 Axes>"
      ]
     },
     "metadata": {},
     "output_type": "display_data"
    }
   ],
   "source": [
    "category_exploration('merchantCountryCode', df)"
   ]
  },
  {
   "cell_type": "code",
   "execution_count": 153,
   "metadata": {
    "colab": {
     "base_uri": "https://localhost:8080/",
     "height": 390
    },
    "id": "Srh3lC1SU-Ae",
    "outputId": "46ab897e-9f4f-467b-83f0-09cbbe064dbf"
   },
   "outputs": [
    {
     "data": {
      "image/png": "[encoded data removed]",
      "text/plain": [
       "<Figure size 576x432 with 1 Axes>"
      ]
     },
     "metadata": {},
     "output_type": "display_data"
    }
   ],
   "source": [
    "category_exploration('posEntryMode', df)"
   ]
  },
  {
   "cell_type": "code",
   "execution_count": 154,
   "metadata": {
    "colab": {
     "base_uri": "https://localhost:8080/",
     "height": 388
    },
    "id": "SxLulLQTU_jq",
    "outputId": "76977875-373d-446c-e819-62076db05188"
   },
   "outputs": [
    {
     "data": {
      "image/png": "[encoded data removed]",
      "text/plain": [
       "<Figure size 576x432 with 1 Axes>"
      ]
     },
     "metadata": {},
     "output_type": "display_data"
    }
   ],
   "source": [
    "category_exploration('posConditionCode', df)"
   ]
  },
  {
   "cell_type": "code",
   "execution_count": 155,
   "metadata": {
    "colab": {
     "base_uri": "https://localhost:8080/",
     "height": 498
    },
    "id": "6oaaTr2KVA6i",
    "outputId": "d3102310-4212-491a-c1d4-208e138d5d8e"
   },
   "outputs": [
    {
     "data": {
      "image/png": "[encoded data removed]",
      "text/plain": [
       "<Figure size 1296x576 with 1 Axes>"
      ]
     },
     "metadata": {},
     "output_type": "display_data"
    }
   ],
   "source": [
    "category_exploration('merchantCategoryCode', df)"
   ]
  },
  {
   "cell_type": "markdown",
   "metadata": {
    "id": "TT3mUcETVGF6"
   },
   "source": [
    "###### Data Pre-processing"
   ]
  },
  {
   "cell_type": "code",
   "execution_count": 156,
   "metadata": {
    "colab": {
     "base_uri": "https://localhost:8080/"
    },
    "id": "iMLU3whzVCaZ",
    "outputId": "a5c6a0ae-4c45-4b76-d3cc-f4420c33367d"
   },
   "outputs": [
    {
     "data": {
      "text/plain": [
       "acqCountry  merchantCountryCode\n",
       "CAN         CAN                      2413\n",
       "            US                         11\n",
       "MEX         MEX                      3109\n",
       "            US                         21\n",
       "PR          PR                       1536\n",
       "            US                          2\n",
       "US          CAN                         4\n",
       "            MEX                        18\n",
       "            PR                         11\n",
       "            US                     774673\n",
       "dtype: int64"
      ]
     },
     "execution_count": 156,
     "metadata": {},
     "output_type": "execute_result"
    }
   ],
   "source": [
    "# Handling missing values\n",
    "\n",
    "# From these results we can see that most of the records have acqcountry and merchant countrycode as same values.\n",
    "# So, we are replacing the missing values in acqCountry with merchant country code and viceversa\n",
    "df.groupby(['acqCountry','merchantCountryCode']).size()"
   ]
  },
  {
   "cell_type": "code",
   "execution_count": 157,
   "metadata": {
    "id": "8d4xllYPVH5t"
   },
   "outputs": [],
   "source": [
    "df['acqCountry'] = df['acqCountry'].fillna(df['merchantCountryCode'])\n",
    "# similary replacing the missing values in merchandcountrycode with acqCountry\n",
    "df['merchantCountryCode'] = df['merchantCountryCode'].fillna(df['acqCountry'])"
   ]
  },
  {
   "cell_type": "code",
   "execution_count": 158,
   "metadata": {
    "id": "EDj4Tj8VcFrU"
   },
   "outputs": [],
   "source": [
    "# It is also observed that the rest categorical columns are skewed towards one type of category. So, the missing values are replaced with the mode in each column.\n",
    "df['transactionType'] = df['transactionType'].fillna('PURCHASE')\n",
    "df['posConditionCode'] = df['posConditionCode'].fillna('01')\n",
    "df['acqCountry'] = df['acqCountry'].fillna('US')\n",
    "df['merchantCountryCode'] = df['merchantCountryCode'].fillna('US')\n",
    "df['posEntryMode'] = df['posEntryMode'].fillna('5.0')"
   ]
  },
  {
   "cell_type": "code",
   "execution_count": 159,
   "metadata": {
    "colab": {
     "base_uri": "https://localhost:8080/"
    },
    "id": "gsQqYucDVJrL",
    "outputId": "3d9bca7d-ce52-4911-9f42-89b189f70705"
   },
   "outputs": [
    {
     "data": {
      "text/plain": [
       "0"
      ]
     },
     "execution_count": 159,
     "metadata": {},
     "output_type": "execute_result"
    }
   ],
   "source": [
    "# The dataset is free from missing values. \n",
    "df.isna().sum().sum()"
   ]
  },
  {
   "cell_type": "markdown",
   "metadata": {
    "id": "LGbOELd6XY6c"
   },
   "source": [
    "# Question 3 - Data wrangling and Duplicate Transactions\n",
    "You will notice a number of what look like duplicated transactions in the data set. One type of duplicated transaction is a reversed transaction, where a purchase is followed by a reversal. Another example is a multi-swipe, where a vendor accidentally charges a customer's card multiple times within a short time span.\n",
    "\n",
    "1. Can you programmatically identify reversed and multi-swipe transactions?\n",
    "2. What total number of transactions and total dollar amount do you estimate for the reversed transactions? For the multi-swipe transactions? (please consider the first transaction to be \"normal\" and exclude it from the number of transaction and dollar amount counts)\n",
    "\n",
    "3. Did you find anything interesting about either kind of transaction?\n"
   ]
  },
  {
   "cell_type": "code",
   "execution_count": 160,
   "metadata": {
    "colab": {
     "base_uri": "https://localhost:8080/"
    },
    "id": "1gxdgFg0Xa14",
    "outputId": "e994d57c-a2a5-48d7-f0f4-e2a97daeeba5"
   },
   "outputs": [
    {
     "data": {
      "text/plain": [
       "(5000, 2)"
      ]
     },
     "execution_count": 160,
     "metadata": {},
     "output_type": "execute_result"
    }
   ],
   "source": [
    "# The dataset has 5000 unique accounts\n",
    "x = pd.DataFrame(df.groupby(['customerId'])['accountNumber'].nunique()).reset_index()\n",
    "x.shape"
   ]
  },
  {
   "cell_type": "code",
   "execution_count": 161,
   "metadata": {
    "colab": {
     "base_uri": "https://localhost:8080/"
    },
    "id": "nhhsOJKMXc2E",
    "outputId": "0ff3984c-bf1e-4c10-8bc1-dbfbc021bd8e"
   },
   "outputs": [
    {
     "data": {
      "text/plain": [
       "(1896, 2)"
      ]
     },
     "execution_count": 161,
     "metadata": {},
     "output_type": "execute_result"
    }
   ],
   "source": [
    "# There are 1896 accounts, that has more than 1 credit card\n",
    "x = pd.DataFrame(df.groupby(['accountNumber'])['cardLast4Digits'].nunique()).reset_index()\n",
    "x[x['cardLast4Digits']>1].shape"
   ]
  },
  {
   "cell_type": "markdown",
   "metadata": {
    "id": "_TB8Qkv8XjRW"
   },
   "source": [
    "##### Reversal Transactions\n",
    "1. Identify the duplicated records based on columns accountNumber, cardLast4Digits, merchantName and transactionAmount because if a transaction is reversed the values in all the above mentioned columns would be the same.\n",
    "2. Create two different dataframes one for purchases other for reverse transactions and merge them to identify the common records.\n",
    "3. Identify the records whose transactionDateTime_x < transactionDateTime_y that is the purchase time is before the reversal time.\n"
   ]
  },
  {
   "cell_type": "code",
   "execution_count": 162,
   "metadata": {
    "colab": {
     "base_uri": "https://localhost:8080/"
    },
    "id": "1gEjvxDNXexm",
    "outputId": "cdbb6571-4ac9-4599-ebfd-43d2747530c0"
   },
   "outputs": [
    {
     "name": "stdout",
     "output_type": "stream",
     "text": [
      "Number of records in duplicated dataset: (109194, 23)\n",
      "Number of purchase records in duplicated: (83018, 23)\n",
      "Number of purchase records in duplicated: (18360, 23)\n"
     ]
    },
    {
     "data": {
      "text/plain": [
       "(18010, 42)"
      ]
     },
     "execution_count": 162,
     "metadata": {},
     "output_type": "execute_result"
    }
   ],
   "source": [
    "\n",
    "# identifying the records with same accountNumber, cardLast4Digits,  transactionAmount, merchantName\n",
    "dup = df[df.duplicated(['accountNumber','cardLast4Digits','merchantName','transactionAmount'], keep = False)]\n",
    "print('Number of records in duplicated dataset: ' + str(dup.shape))\n",
    "# identifying the purchases \n",
    "dupPurchase = dup[dup['transactionType']=='PURCHASE']\n",
    "print('Number of purchase records in duplicated: '+str(dupPurchase.shape))\n",
    "dupReversal = dup[dup['transactionType']=='REVERSAL']\n",
    "print('Number of purchase records in duplicated: '+str(dupReversal.shape))\n",
    "\n",
    "# identifying the common records dup_purchase and dup_reversal \n",
    "final_dup = dupPurchase.merge(dupReversal, on = ['accountNumber','cardLast4Digits','merchantName','transactionAmount'], how = 'inner', indicator = False)\n",
    "\n",
    "# identifying the records whose purchasing time is less than reversal time\n",
    "final_dup = final_dup[final_dup['transactionDateTime_x'] < final_dup['transactionDateTime_y']]\n",
    "final_dup.shape\n",
    "# There are total of 17992 reversed transactions in the dataset"
   ]
  },
  {
   "cell_type": "code",
   "execution_count": 163,
   "metadata": {
    "colab": {
     "base_uri": "https://localhost:8080/",
     "height": 162
    },
    "id": "mQ2JLPUUXlgs",
    "outputId": "108ef42c-e951-4daf-c20b-48b72a82828b"
   },
   "outputs": [
    {
     "data": {
      "text/html": [
       "<div>\n",
       "<style scoped>\n",
       "    .dataframe tbody tr th:only-of-type {\n",
       "        vertical-align: middle;\n",
       "    }\n",
       "\n",
       "    .dataframe tbody tr th {\n",
       "        vertical-align: top;\n",
       "    }\n",
       "\n",
       "    .dataframe thead th {\n",
       "        text-align: right;\n",
       "    }\n",
       "</style>\n",
       "<table border=\"1\" class=\"dataframe\">\n",
       "  <thead>\n",
       "    <tr style=\"text-align: right;\">\n",
       "      <th></th>\n",
       "      <th>accountNumber</th>\n",
       "      <th>customerId</th>\n",
       "      <th>creditLimit</th>\n",
       "      <th>availableMoney</th>\n",
       "      <th>transactionDateTime</th>\n",
       "      <th>transactionAmount</th>\n",
       "      <th>merchantName</th>\n",
       "      <th>acqCountry</th>\n",
       "      <th>merchantCountryCode</th>\n",
       "      <th>posEntryMode</th>\n",
       "      <th>...</th>\n",
       "      <th>accountOpenDate</th>\n",
       "      <th>dateOfLastAddressChange</th>\n",
       "      <th>cardCVV</th>\n",
       "      <th>enteredCVV</th>\n",
       "      <th>cardLast4Digits</th>\n",
       "      <th>transactionType</th>\n",
       "      <th>currentBalance</th>\n",
       "      <th>cardPresent</th>\n",
       "      <th>expirationDateKeyInMatch</th>\n",
       "      <th>isFraud</th>\n",
       "    </tr>\n",
       "  </thead>\n",
       "  <tbody>\n",
       "    <tr>\n",
       "      <th>5502</th>\n",
       "      <td>389428961</td>\n",
       "      <td>389428961</td>\n",
       "      <td>7500.000</td>\n",
       "      <td>6489.760</td>\n",
       "      <td>2016-04-23T11:10:49</td>\n",
       "      <td>70.810</td>\n",
       "      <td>walmart.com</td>\n",
       "      <td>US</td>\n",
       "      <td>US</td>\n",
       "      <td>02</td>\n",
       "      <td>...</td>\n",
       "      <td>2012-06-04</td>\n",
       "      <td>2012-06-04</td>\n",
       "      <td>296</td>\n",
       "      <td>296</td>\n",
       "      <td>5254</td>\n",
       "      <td>PURCHASE</td>\n",
       "      <td>1010.240</td>\n",
       "      <td>False</td>\n",
       "      <td>False</td>\n",
       "      <td>False</td>\n",
       "    </tr>\n",
       "    <tr>\n",
       "      <th>5503</th>\n",
       "      <td>389428961</td>\n",
       "      <td>389428961</td>\n",
       "      <td>7500.000</td>\n",
       "      <td>6418.950</td>\n",
       "      <td>2016-04-23T11:12:59</td>\n",
       "      <td>70.810</td>\n",
       "      <td>walmart.com</td>\n",
       "      <td>US</td>\n",
       "      <td>US</td>\n",
       "      <td>02</td>\n",
       "      <td>...</td>\n",
       "      <td>2012-06-04</td>\n",
       "      <td>2012-06-04</td>\n",
       "      <td>296</td>\n",
       "      <td>296</td>\n",
       "      <td>5254</td>\n",
       "      <td>PURCHASE</td>\n",
       "      <td>1081.050</td>\n",
       "      <td>False</td>\n",
       "      <td>False</td>\n",
       "      <td>False</td>\n",
       "    </tr>\n",
       "    <tr>\n",
       "      <th>5523</th>\n",
       "      <td>389428961</td>\n",
       "      <td>389428961</td>\n",
       "      <td>7500.000</td>\n",
       "      <td>6357.910</td>\n",
       "      <td>2016-05-21T22:52:54</td>\n",
       "      <td>70.810</td>\n",
       "      <td>walmart.com</td>\n",
       "      <td>US</td>\n",
       "      <td>US</td>\n",
       "      <td>02</td>\n",
       "      <td>...</td>\n",
       "      <td>2012-06-04</td>\n",
       "      <td>2012-06-04</td>\n",
       "      <td>296</td>\n",
       "      <td>296</td>\n",
       "      <td>5254</td>\n",
       "      <td>REVERSAL</td>\n",
       "      <td>1142.090</td>\n",
       "      <td>False</td>\n",
       "      <td>False</td>\n",
       "      <td>False</td>\n",
       "    </tr>\n",
       "  </tbody>\n",
       "</table>\n",
       "<p>3 rows × 23 columns</p>\n",
       "</div>"
      ],
      "text/plain": [
       "     accountNumber customerId  creditLimit  availableMoney  \\\n",
       "5502     389428961  389428961     7500.000        6489.760   \n",
       "5503     389428961  389428961     7500.000        6418.950   \n",
       "5523     389428961  389428961     7500.000        6357.910   \n",
       "\n",
       "      transactionDateTime  transactionAmount merchantName acqCountry  \\\n",
       "5502  2016-04-23T11:10:49             70.810  walmart.com         US   \n",
       "5503  2016-04-23T11:12:59             70.810  walmart.com         US   \n",
       "5523  2016-05-21T22:52:54             70.810  walmart.com         US   \n",
       "\n",
       "     merchantCountryCode posEntryMode  ... accountOpenDate  \\\n",
       "5502                  US           02  ...      2012-06-04   \n",
       "5503                  US           02  ...      2012-06-04   \n",
       "5523                  US           02  ...      2012-06-04   \n",
       "\n",
       "     dateOfLastAddressChange cardCVV enteredCVV cardLast4Digits  \\\n",
       "5502              2012-06-04     296        296            5254   \n",
       "5503              2012-06-04     296        296            5254   \n",
       "5523              2012-06-04     296        296            5254   \n",
       "\n",
       "     transactionType currentBalance cardPresent expirationDateKeyInMatch  \\\n",
       "5502        PURCHASE       1010.240       False                    False   \n",
       "5503        PURCHASE       1081.050       False                    False   \n",
       "5523        REVERSAL       1142.090       False                    False   \n",
       "\n",
       "      isFraud  \n",
       "5502    False  \n",
       "5503    False  \n",
       "5523    False  \n",
       "\n",
       "[3 rows x 23 columns]"
      ]
     },
     "execution_count": 163,
     "metadata": {},
     "output_type": "execute_result"
    }
   ],
   "source": [
    "# Below cases are problematic, \n",
    "df[(df['accountNumber']=='389428961') & (df['cardLast4Digits']=='5254') & (df['merchantName']=='walmart.com') & (df['transactionAmount']==70.810)]"
   ]
  },
  {
   "cell_type": "code",
   "execution_count": 164,
   "metadata": {
    "colab": {
     "base_uri": "https://localhost:8080/",
     "height": 130
    },
    "id": "oIVsfDtqXnM6",
    "outputId": "9957ea94-bc5a-4fce-e646-09dd01b65ad1"
   },
   "outputs": [
    {
     "data": {
      "text/html": [
       "<div>\n",
       "<style scoped>\n",
       "    .dataframe tbody tr th:only-of-type {\n",
       "        vertical-align: middle;\n",
       "    }\n",
       "\n",
       "    .dataframe tbody tr th {\n",
       "        vertical-align: top;\n",
       "    }\n",
       "\n",
       "    .dataframe thead th {\n",
       "        text-align: right;\n",
       "    }\n",
       "</style>\n",
       "<table border=\"1\" class=\"dataframe\">\n",
       "  <thead>\n",
       "    <tr style=\"text-align: right;\">\n",
       "      <th></th>\n",
       "      <th>accountNumber</th>\n",
       "      <th>cardLast4Digits</th>\n",
       "      <th>merchantName</th>\n",
       "      <th>transactionAmount</th>\n",
       "      <th>transactionDateTime_y</th>\n",
       "      <th>transactionType_y</th>\n",
       "      <th>transactionDateTime_x</th>\n",
       "      <th>transactionType_x</th>\n",
       "    </tr>\n",
       "  </thead>\n",
       "  <tbody>\n",
       "    <tr>\n",
       "      <th>117</th>\n",
       "      <td>389428961</td>\n",
       "      <td>5254</td>\n",
       "      <td>walmart.com</td>\n",
       "      <td>70.810</td>\n",
       "      <td>2016-05-21T22:52:54</td>\n",
       "      <td>REVERSAL</td>\n",
       "      <td>2016-04-23T11:10:49</td>\n",
       "      <td>PURCHASE</td>\n",
       "    </tr>\n",
       "    <tr>\n",
       "      <th>118</th>\n",
       "      <td>389428961</td>\n",
       "      <td>5254</td>\n",
       "      <td>walmart.com</td>\n",
       "      <td>70.810</td>\n",
       "      <td>2016-05-21T22:52:54</td>\n",
       "      <td>REVERSAL</td>\n",
       "      <td>2016-04-23T11:12:59</td>\n",
       "      <td>PURCHASE</td>\n",
       "    </tr>\n",
       "  </tbody>\n",
       "</table>\n",
       "</div>"
      ],
      "text/plain": [
       "    accountNumber cardLast4Digits merchantName  transactionAmount  \\\n",
       "117     389428961            5254  walmart.com             70.810   \n",
       "118     389428961            5254  walmart.com             70.810   \n",
       "\n",
       "    transactionDateTime_y transactionType_y transactionDateTime_x  \\\n",
       "117   2016-05-21T22:52:54          REVERSAL   2016-04-23T11:10:49   \n",
       "118   2016-05-21T22:52:54          REVERSAL   2016-04-23T11:12:59   \n",
       "\n",
       "    transactionType_x  \n",
       "117          PURCHASE  \n",
       "118          PURCHASE  "
      ]
     },
     "execution_count": 164,
     "metadata": {},
     "output_type": "execute_result"
    }
   ],
   "source": [
    "# Problems with few cases\n",
    "x = final_dup[(final_dup['accountNumber']=='389428961') & (final_dup['cardLast4Digits']=='5254') & (final_dup['merchantName']=='walmart.com') & (final_dup['transactionAmount']==70.810)]\n",
    "x[['accountNumber','cardLast4Digits','merchantName', 'transactionAmount','transactionDateTime_y','transactionType_y','transactionDateTime_x','transactionType_x']]"
   ]
  },
  {
   "cell_type": "code",
   "execution_count": 165,
   "metadata": {
    "id": "4BZOH097Xo6t"
   },
   "outputs": [],
   "source": [
    "# To avoid those cases, keep the last record incase of duplicates\n",
    "final_dup = final_dup.sort_values(['accountNumber','cardLast4Digits','merchantName', 'transactionAmount','transactionDateTime_y','transactionType_y'])\n",
    "final_dup = final_dup.drop_duplicates(['accountNumber','cardLast4Digits','merchantName', 'transactionAmount','transactionDateTime_y','transactionType_y'], keep = 'last')"
   ]
  },
  {
   "cell_type": "code",
   "execution_count": 166,
   "metadata": {
    "colab": {
     "base_uri": "https://localhost:8080/"
    },
    "id": "pROC_SRAXqxk",
    "outputId": "1ad8dea3-1a31-4d1d-8895-b90bb33b7ff5"
   },
   "outputs": [
    {
     "data": {
      "text/plain": [
       "(17776, 42)"
      ]
     },
     "execution_count": 166,
     "metadata": {},
     "output_type": "execute_result"
    }
   ],
   "source": [
    "final_dup.shape"
   ]
  },
  {
   "cell_type": "code",
   "execution_count": 167,
   "metadata": {
    "colab": {
     "base_uri": "https://localhost:8080/"
    },
    "id": "Dm4vN-dqXsla",
    "outputId": "5dc19bb7-6f9d-49e2-f560-de72b2506124"
   },
   "outputs": [
    {
     "data": {
      "text/plain": [
       "False    768587\n",
       "True      17776\n",
       "Name: reversalTransaction, dtype: int64"
      ]
     },
     "execution_count": 167,
     "metadata": {},
     "output_type": "execute_result"
    }
   ],
   "source": [
    "reversalTransactions = final_dup[['accountNumber','cardLast4Digits','merchantName','transactionAmount','transactionDateTime_y', 'transactionType_y', 'transactionDateTime_x','transactionType_x']]\n",
    "# adding reversal transaction columns to the dataframe. There are total of 17758 reversal records\n",
    "df.loc[df.set_index(['accountNumber','cardLast4Digits','merchantName','transactionAmount','transactionDateTime','transactionType']).index.isin(reversalTransactions.set_index(['accountNumber','cardLast4Digits','merchantName','transactionAmount','transactionDateTime_y','transactionType_y']).index)==True, 'reversalTransaction'] = True\n",
    "df['reversalTransaction'] = df['reversalTransaction'].fillna(False)\n",
    "df['reversalTransaction'].value_counts()\n"
   ]
  },
  {
   "cell_type": "markdown",
   "metadata": {
    "id": "NHeNtT26Xv5S"
   },
   "source": [
    "###### Multi-Swipe Transaction\n",
    "1. Initially sort the values in the dataframe based on accountNumber, cardLast4Digits, merchantName, transactionAmount and transactionDateTime.\n",
    "2. If a card has been used for same purchase more than once in 5 mins then it is marked as multi swipe transactions. "
   ]
  },
  {
   "cell_type": "code",
   "execution_count": 168,
   "metadata": {
    "id": "NKjDxusHXt1M"
   },
   "outputs": [],
   "source": [
    "df = df.sort_values(['accountNumber','cardLast4Digits','merchantName', 'transactionAmount','transactionDateTime'])\n",
    "# converting the transcatioDateTime to datetime object\n",
    "df['transactionDateTime'] = pd.to_datetime(df['transactionDateTime'],  format = '%Y-%m-%dT%H:%M:%S', errors = 'coerce')"
   ]
  },
  {
   "cell_type": "code",
   "execution_count": 169,
   "metadata": {
    "id": "lGaDDUjqXxXe"
   },
   "outputs": [],
   "source": [
    "df['multiSwipeTransaction'] = (df.groupby(['accountNumber','cardLast4Digits','merchantName', 'transactionAmount','transactionType'], sort=False)['transactionDateTime']\n",
    "                       .diff()\n",
    "                       .dt.total_seconds()\n",
    "                       .lt(300))"
   ]
  },
  {
   "cell_type": "code",
   "execution_count": 170,
   "metadata": {
    "colab": {
     "base_uri": "https://localhost:8080/"
    },
    "id": "pLEs8RgaXzyI",
    "outputId": "17b7c4dc-23d1-4e41-f735-fd4a9054c003"
   },
   "outputs": [
    {
     "data": {
      "text/plain": [
       "False    778683\n",
       "True       7680\n",
       "Name: multiSwipeTransaction, dtype: int64"
      ]
     },
     "execution_count": 170,
     "metadata": {},
     "output_type": "execute_result"
    }
   ],
   "source": [
    "df['multiSwipeTransaction'].value_counts()"
   ]
  },
  {
   "cell_type": "code",
   "execution_count": 171,
   "metadata": {
    "colab": {
     "base_uri": "https://localhost:8080/"
    },
    "id": "5nUOm4S0X3Hd",
    "outputId": "6674a411-4990-431c-8a5e-8f2062fc4a1e"
   },
   "outputs": [
    {
     "data": {
      "text/plain": [
       "multiSwipeTransaction  transactionType     \n",
       "False                  ADDRESS_VERIFICATION     19946\n",
       "                       PURCHASE                738434\n",
       "                       REVERSAL                 20303\n",
       "True                   ADDRESS_VERIFICATION       223\n",
       "                       PURCHASE                  7457\n",
       "dtype: int64"
      ]
     },
     "execution_count": 171,
     "metadata": {},
     "output_type": "execute_result"
    }
   ],
   "source": [
    "df.groupby(['multiSwipeTransaction','transactionType']).size()"
   ]
  },
  {
   "cell_type": "code",
   "execution_count": 172,
   "metadata": {
    "colab": {
     "base_uri": "https://localhost:8080/"
    },
    "id": "Ya8eRyCSX3eG",
    "outputId": "5e758211-4522-4bde-9603-abc065acbbaa"
   },
   "outputs": [
    {
     "data": {
      "text/plain": [
       "multiSwipeTransaction  reversalTransaction\n",
       "False                  False                  760907\n",
       "                       True                    17776\n",
       "True                   False                    7680\n",
       "dtype: int64"
      ]
     },
     "execution_count": 172,
     "metadata": {},
     "output_type": "execute_result"
    }
   ],
   "source": [
    "df.groupby(['multiSwipeTransaction','reversalTransaction']).size()\n",
    "# The multi-swipe transaction doesn't contain any reversal or reverse transactions\n"
   ]
  },
  {
   "cell_type": "code",
   "execution_count": 173,
   "metadata": {
    "colab": {
     "base_uri": "https://localhost:8080/"
    },
    "id": "3oKNkBdOX5YF",
    "outputId": "1cfa6019-5dcd-4c0f-ce23-4926f063ed21"
   },
   "outputs": [
    {
     "name": "stdout",
     "output_type": "stream",
     "text": [
      "Total Number of reversed transactions are: 17776\n",
      "Total Number of MultiSwipe transactions are: 7680\n",
      "Total Dollar estimate for the reversed transactions are: 2669302.6\n",
      "Total Dollar estimate for the multi-swipe transactions are: 1104006.71\n"
     ]
    }
   ],
   "source": [
    "# What total number of transactions and total dollar amount do you estimate for the reversed transactions? \n",
    "#For the multi-swipe transactions? (please consider the first transaction to be \"normal\" and exclude it from the number of transaction and \n",
    "#dollar amount counts)\n",
    "print('Total Number of reversed transactions are: '+str(df[df['reversalTransaction']==True].shape[0]))\n",
    "print('Total Number of MultiSwipe transactions are: '+str(df[df['multiSwipeTransaction']==True].shape[0]))\n",
    "df_reverse = df[df['reversalTransaction']==True]\n",
    "df_multi = df[df['multiSwipeTransaction']==True]\n",
    "print('Total Dollar estimate for the reversed transactions are: '+str(df_reverse['transactionAmount'].sum()))\n",
    "print('Total Dollar estimate for the multi-swipe transactions are: '+str(df_multi['transactionAmount'].sum()))"
   ]
  },
  {
   "cell_type": "markdown",
   "metadata": {
    "id": "zjjrNJplh6xD"
   },
   "source": [
    "###### Did you find anything interesting about either kind of transaction?"
   ]
  },
  {
   "cell_type": "code",
   "execution_count": 174,
   "metadata": {
    "id": "QIev4XALX6sB"
   },
   "outputs": [],
   "source": [
    "# Finding the relation between reversal, multi-swipe transactions and name of the merchants\n",
    "df_merchants = pd.DataFrame({'Percentage': df.groupby(('merchantCategoryCode')).size() / len(df)}).reset_index()\n",
    "df_merchants_reverse = pd.DataFrame({'Percentage': df_reverse.groupby(('merchantCategoryCode')).size() / len(df)}).reset_index() \n",
    "df_merchants['reversalTransactions'] = df_merchants_reverse['Percentage']\n",
    "df_merchants_multi = pd.DataFrame({'Percentage': df_multi.groupby(('merchantCategoryCode')).size() / len(df)}).reset_index()    \n",
    "df_merchants['multiSwipeTransactions'] = df_merchants_multi['Percentage']"
   ]
  },
  {
   "cell_type": "code",
   "execution_count": 175,
   "metadata": {
    "colab": {
     "base_uri": "https://localhost:8080/",
     "height": 634
    },
    "id": "xAF0G3SFX7-c",
    "outputId": "4a910d9a-cf66-43cd-8e9d-a0e44f7d0848"
   },
   "outputs": [
    {
     "data": {
      "text/html": [
       "<div>\n",
       "<style scoped>\n",
       "    .dataframe tbody tr th:only-of-type {\n",
       "        vertical-align: middle;\n",
       "    }\n",
       "\n",
       "    .dataframe tbody tr th {\n",
       "        vertical-align: top;\n",
       "    }\n",
       "\n",
       "    .dataframe thead th {\n",
       "        text-align: right;\n",
       "    }\n",
       "</style>\n",
       "<table border=\"1\" class=\"dataframe\">\n",
       "  <thead>\n",
       "    <tr style=\"text-align: right;\">\n",
       "      <th></th>\n",
       "      <th>merchantCategoryCode</th>\n",
       "      <th>Percentage</th>\n",
       "      <th>reversalTransactions</th>\n",
       "      <th>multiSwipeTransactions</th>\n",
       "    </tr>\n",
       "  </thead>\n",
       "  <tbody>\n",
       "    <tr>\n",
       "      <th>0</th>\n",
       "      <td>airline</td>\n",
       "      <td>0.020</td>\n",
       "      <td>0.000</td>\n",
       "      <td>0.000</td>\n",
       "    </tr>\n",
       "    <tr>\n",
       "      <th>1</th>\n",
       "      <td>auto</td>\n",
       "      <td>0.028</td>\n",
       "      <td>0.001</td>\n",
       "      <td>0.000</td>\n",
       "    </tr>\n",
       "    <tr>\n",
       "      <th>2</th>\n",
       "      <td>cable/phone</td>\n",
       "      <td>0.002</td>\n",
       "      <td>0.002</td>\n",
       "      <td>0.001</td>\n",
       "    </tr>\n",
       "    <tr>\n",
       "      <th>3</th>\n",
       "      <td>entertainment</td>\n",
       "      <td>0.102</td>\n",
       "      <td>0.004</td>\n",
       "      <td>0.002</td>\n",
       "    </tr>\n",
       "    <tr>\n",
       "      <th>4</th>\n",
       "      <td>fastfood</td>\n",
       "      <td>0.143</td>\n",
       "      <td>0.002</td>\n",
       "      <td>0.001</td>\n",
       "    </tr>\n",
       "    <tr>\n",
       "      <th>5</th>\n",
       "      <td>food</td>\n",
       "      <td>0.096</td>\n",
       "      <td>0.000</td>\n",
       "      <td>0.000</td>\n",
       "    </tr>\n",
       "    <tr>\n",
       "      <th>6</th>\n",
       "      <td>food_delivery</td>\n",
       "      <td>0.008</td>\n",
       "      <td>0.001</td>\n",
       "      <td>0.000</td>\n",
       "    </tr>\n",
       "    <tr>\n",
       "      <th>7</th>\n",
       "      <td>fuel</td>\n",
       "      <td>0.030</td>\n",
       "      <td>0.001</td>\n",
       "      <td>0.000</td>\n",
       "    </tr>\n",
       "    <tr>\n",
       "      <th>8</th>\n",
       "      <td>furniture</td>\n",
       "      <td>0.009</td>\n",
       "      <td>0.002</td>\n",
       "      <td>0.001</td>\n",
       "    </tr>\n",
       "    <tr>\n",
       "      <th>9</th>\n",
       "      <td>gym</td>\n",
       "      <td>0.003</td>\n",
       "      <td>0.006</td>\n",
       "      <td>0.003</td>\n",
       "    </tr>\n",
       "    <tr>\n",
       "      <th>10</th>\n",
       "      <td>health</td>\n",
       "      <td>0.024</td>\n",
       "      <td>0.001</td>\n",
       "      <td>0.000</td>\n",
       "    </tr>\n",
       "    <tr>\n",
       "      <th>11</th>\n",
       "      <td>hotels</td>\n",
       "      <td>0.043</td>\n",
       "      <td>0.002</td>\n",
       "      <td>0.001</td>\n",
       "    </tr>\n",
       "    <tr>\n",
       "      <th>12</th>\n",
       "      <td>mobileapps</td>\n",
       "      <td>0.019</td>\n",
       "      <td>0.001</td>\n",
       "      <td>0.000</td>\n",
       "    </tr>\n",
       "    <tr>\n",
       "      <th>13</th>\n",
       "      <td>online_gifts</td>\n",
       "      <td>0.084</td>\n",
       "      <td>nan</td>\n",
       "      <td>nan</td>\n",
       "    </tr>\n",
       "    <tr>\n",
       "      <th>14</th>\n",
       "      <td>online_retail</td>\n",
       "      <td>0.257</td>\n",
       "      <td>nan</td>\n",
       "      <td>nan</td>\n",
       "    </tr>\n",
       "    <tr>\n",
       "      <th>15</th>\n",
       "      <td>online_subscriptions</td>\n",
       "      <td>0.014</td>\n",
       "      <td>nan</td>\n",
       "      <td>nan</td>\n",
       "    </tr>\n",
       "    <tr>\n",
       "      <th>16</th>\n",
       "      <td>personal care</td>\n",
       "      <td>0.024</td>\n",
       "      <td>nan</td>\n",
       "      <td>nan</td>\n",
       "    </tr>\n",
       "    <tr>\n",
       "      <th>17</th>\n",
       "      <td>rideshare</td>\n",
       "      <td>0.065</td>\n",
       "      <td>nan</td>\n",
       "      <td>nan</td>\n",
       "    </tr>\n",
       "    <tr>\n",
       "      <th>18</th>\n",
       "      <td>subscriptions</td>\n",
       "      <td>0.029</td>\n",
       "      <td>nan</td>\n",
       "      <td>nan</td>\n",
       "    </tr>\n",
       "  </tbody>\n",
       "</table>\n",
       "</div>"
      ],
      "text/plain": [
       "    merchantCategoryCode  Percentage  reversalTransactions  \\\n",
       "0                airline       0.020                 0.000   \n",
       "1                   auto       0.028                 0.001   \n",
       "2            cable/phone       0.002                 0.002   \n",
       "3          entertainment       0.102                 0.004   \n",
       "4               fastfood       0.143                 0.002   \n",
       "5                   food       0.096                 0.000   \n",
       "6          food_delivery       0.008                 0.001   \n",
       "7                   fuel       0.030                 0.001   \n",
       "8              furniture       0.009                 0.002   \n",
       "9                    gym       0.003                 0.006   \n",
       "10                health       0.024                 0.001   \n",
       "11                hotels       0.043                 0.002   \n",
       "12            mobileapps       0.019                 0.001   \n",
       "13          online_gifts       0.084                   nan   \n",
       "14         online_retail       0.257                   nan   \n",
       "15  online_subscriptions       0.014                   nan   \n",
       "16         personal care       0.024                   nan   \n",
       "17             rideshare       0.065                   nan   \n",
       "18         subscriptions       0.029                   nan   \n",
       "\n",
       "    multiSwipeTransactions  \n",
       "0                    0.000  \n",
       "1                    0.000  \n",
       "2                    0.001  \n",
       "3                    0.002  \n",
       "4                    0.001  \n",
       "5                    0.000  \n",
       "6                    0.000  \n",
       "7                    0.000  \n",
       "8                    0.001  \n",
       "9                    0.003  \n",
       "10                   0.000  \n",
       "11                   0.001  \n",
       "12                   0.000  \n",
       "13                     nan  \n",
       "14                     nan  \n",
       "15                     nan  \n",
       "16                     nan  \n",
       "17                     nan  \n",
       "18                     nan  "
      ]
     },
     "execution_count": 175,
     "metadata": {},
     "output_type": "execute_result"
    }
   ],
   "source": [
    "(df_merchants)\n",
    "# No reversal or multi-swipe transactions are observed in online_gifts, online_retail, online_subscriptions, personal_care, rideshare and subscriptions merchant categories.\n",
    "# higher number of reversal transactions are observed in entertainment category, this because people usually cancel movie, concert etc tickets frequently.\n",
    "# it is suprising to see higher number of multiswipe transactions in gym "
   ]
  },
  {
   "cell_type": "markdown",
   "metadata": {
    "id": "ItGYLBXQYAkJ"
   },
   "source": [
    "### Feature Engineering"
   ]
  },
  {
   "cell_type": "code",
   "execution_count": 176,
   "metadata": {
    "colab": {
     "base_uri": "https://localhost:8080/"
    },
    "id": "81JhBBuMX-kB",
    "outputId": "b66f4e40-2049-4693-dba8-754d079e39c3"
   },
   "outputs": [
    {
     "name": "stdout",
     "output_type": "stream",
     "text": [
      "False    779348\n",
      "True       7015\n",
      "Name: incorrectCVV, dtype: int64\n"
     ]
    }
   ],
   "source": [
    "# incorrectCVV is set to true if the enterered CVV doesn't match the cardCVV\n",
    "df['incorrectCVV']=np.where(df['cardCVV']==df['enteredCVV'],False,True)\n",
    "print(df['incorrectCVV'].value_counts())"
   ]
  },
  {
   "cell_type": "code",
   "execution_count": 177,
   "metadata": {
    "colab": {
     "base_uri": "https://localhost:8080/"
    },
    "id": "g6oMe7zwSWug",
    "outputId": "a2df2b2b-833f-4713-e334-1e6a2c2204d5"
   },
   "outputs": [
    {
     "data": {
      "text/plain": [
       "False    786296\n",
       "True         67\n",
       "Name: differentCountry, dtype: int64"
      ]
     },
     "execution_count": 177,
     "metadata": {},
     "output_type": "execute_result"
    }
   ],
   "source": [
    "# DifferentCountry column is set to true if the person uses card in different country other than acquired ones\n",
    "df['differentCountry'] = np.where(df['acqCountry']==df['merchantCountryCode'],False,True)\n",
    "df['differentCountry'].value_counts()"
   ]
  },
  {
   "cell_type": "code",
   "execution_count": 178,
   "metadata": {
    "id": "osTMTODUYF8X"
   },
   "outputs": [],
   "source": [
    "# converting the columns to datetime type\n",
    "df['accountOpenDate'] = pd.to_datetime(df['accountOpenDate'],  format = '%Y-%m-%d', errors = 'coerce')\n",
    "df['dateOfLastAddressChange'] = pd.to_datetime(df['dateOfLastAddressChange'],  format = '%Y-%m-%d', errors = 'coerce')\n",
    "df['currentExpDate'] = pd.to_datetime(df['currentExpDate'],  format = '%m/%Y', errors = 'coerce')"
   ]
  },
  {
   "cell_type": "code",
   "execution_count": 179,
   "metadata": {
    "id": "NmRF0DZFYJCu"
   },
   "outputs": [],
   "source": [
    "df['transactionDateTime-accountOpenDate'] = (df['transactionDateTime'] - df['accountOpenDate']) / pd.Timedelta(hours=1)\n",
    "df['transactionDateTime - dateOfLastAddressChange'] = (df['transactionDateTime'] - df['dateOfLastAddressChange']) / pd.Timedelta(hours=1)"
   ]
  },
  {
   "cell_type": "code",
   "execution_count": 180,
   "metadata": {
    "id": "fdx9MJrwYPes"
   },
   "outputs": [],
   "source": [
    "# recency - Time since the last transaction\n",
    "df = df.sort_values(['accountNumber','cardLast4Digits','transactionDateTime'], ascending=True)\n",
    "df = df.reset_index(drop=True)\n",
    "df['previousTransaction'] = df.groupby(['accountNumber','cardLast4Digits']).transactionDateTime.shift(1)\n",
    "\n",
    "df['recency'] = (df['transactionDateTime'] - df['previousTransaction']).dt.total_seconds()/(24*60*60)\n",
    "df['recency'] = df['recency'].fillna(0)"
   ]
  },
  {
   "cell_type": "markdown",
   "metadata": {
    "id": "WudAtx4aPoyn"
   },
   "source": [
    "##### Aggregating features"
   ]
  },
  {
   "cell_type": "code",
   "execution_count": 181,
   "metadata": {
    "colab": {
     "base_uri": "https://localhost:8080/"
    },
    "id": "wq6pqp2gP2jy",
    "outputId": "eb80b5ee-938f-469c-ab0a-084dc2596065"
   },
   "outputs": [
    {
     "data": {
      "text/plain": [
       "(786363, 35)"
      ]
     },
     "execution_count": 181,
     "metadata": {},
     "output_type": "execute_result"
    }
   ],
   "source": [
    "df['transactionDate'] = df['transactionDateTime'].dt.date\n",
    "df['transactionWeek'] = df['transactionDateTime'].dt.week\n",
    "df['transactionMonth'] = df['transactionDateTime'].dt.month\n",
    "df['transactionQuarter'] = df['transactionDateTime'].dt.quarter\n",
    "df.shape"
   ]
  },
  {
   "cell_type": "code",
   "execution_count": 182,
   "metadata": {
    "id": "bjhE5EzXPllV"
   },
   "outputs": [],
   "source": [
    "def aggregationfunction(groupbycols, feature1, feature2,df):\n",
    "    timeperiod = ['transactionDate','transactionWeek','transactionMonth','transactionQuarter']\n",
    "    j = 0\n",
    "    for i in timeperiod:\n",
    "        newvals = groupbycols.copy()\n",
    "        newvals.append(i)\n",
    "        # for naming features in dataframe\n",
    "        f1 = feature1+str(j)\n",
    "        f2 = feature2+str(j)\n",
    "        j = j+1\n",
    "\n",
    "        temp = pd.DataFrame(df.groupby(newvals).size()).reset_index()\n",
    "        temp_sum = pd.DataFrame(df.groupby(newvals)['transactionAmount'].mean()).reset_index()\n",
    "\n",
    "        temp[f1] = temp_sum['transactionAmount']\n",
    "        temp = temp.rename(columns = {0:f2})\n",
    "\n",
    "        # Merging the above 2 columns to the original dataframe\n",
    "        df = pd.merge(df,temp, on=newvals, how='inner')\n",
    "\n",
    "    print(df.shape)\n",
    "    return df"
   ]
  },
  {
   "cell_type": "code",
   "execution_count": 183,
   "metadata": {
    "colab": {
     "base_uri": "https://localhost:8080/"
    },
    "id": "f_XJDI_kQaVg",
    "outputId": "f0951e05-bb68-461b-8f4e-062147af3f69"
   },
   "outputs": [
    {
     "name": "stdout",
     "output_type": "stream",
     "text": [
      "(786363, 43)\n"
     ]
    }
   ],
   "source": [
    "df = aggregationfunction(['accountNumber','cardLast4Digits','merchantCategoryCode'],'a','acount',df)\n"
   ]
  },
  {
   "cell_type": "code",
   "execution_count": 184,
   "metadata": {
    "id": "7Efb4w9nRUOY"
   },
   "outputs": [
    {
     "name": "stdout",
     "output_type": "stream",
     "text": [
      "(786363, 51)\n",
      "(786363, 59)\n",
      "(786363, 67)\n",
      "(786363, 75)\n",
      "(786363, 83)\n"
     ]
    }
   ],
   "source": [
    "df = aggregationfunction(['accountNumber','cardLast4Digits'],'b','bcount',df)\n",
    "df = aggregationfunction(['accountNumber','cardLast4Digits','posEntryMode'],'c','ccount',df)\n",
    "df = aggregationfunction(['accountNumber','cardLast4Digits','posConditionCode'],'d','dcount',df)\n",
    "df = aggregationfunction(['accountNumber','cardLast4Digits','posEntryMode','merchantName'],'e','ecount',df)\n",
    "df = aggregationfunction(['accountNumber','cardLast4Digits','posConditionCode','merchantName'],'f','fcount',df)"
   ]
  },
  {
   "cell_type": "code",
   "execution_count": 185,
   "metadata": {
    "id": "9hkiy39rR6A-"
   },
   "outputs": [
    {
     "name": "stdout",
     "output_type": "stream",
     "text": [
      "(786363, 91)\n",
      "(786363, 99)\n"
     ]
    }
   ],
   "source": [
    "df = aggregationfunction(['accountNumber','cardLast4Digits','posEntryMode','merchantCategoryCode'],'g','gcount',df)\n",
    "df = aggregationfunction(['accountNumber','cardLast4Digits','posConditionCode','merchantCategoryCode'],'h','hcount',df)"
   ]
  },
  {
   "cell_type": "code",
   "execution_count": 186,
   "metadata": {},
   "outputs": [],
   "source": [
    "df.to_csv('features.csv',index=False)"
   ]
  },
  {
   "cell_type": "code",
   "execution_count": null,
   "metadata": {},
   "outputs": [],
   "source": []
  },
  {
   "cell_type": "code",
   "execution_count": 188,
   "metadata": {},
   "outputs": [],
   "source": [
    "# Autoencoders - Deep Learning Model"
   ]
  },
  {
   "cell_type": "code",
   "execution_count": 74,
   "metadata": {},
   "outputs": [],
   "source": [
    "y_nn=df2['isFraud']\n",
    "X_nn=df2.drop(columns = ['isFraud'])\n",
    "\n",
    "X_nn_train, X_nn_test, y__nn_train, y_nn_test = train_test_split(X_nn, y_nn, test_size=0.2, random_state=42, stratify = y)\n",
    "\n",
    "\n",
    "\n"
   ]
  },
  {
   "cell_type": "code",
   "execution_count": 113,
   "metadata": {},
   "outputs": [
    {
     "data": {
      "text/plain": [
       "(619156, 131)"
      ]
     },
     "execution_count": 113,
     "metadata": {},
     "output_type": "execute_result"
    }
   ],
   "source": [
    "\n",
    "X_train['isFraud'] = y_train\n",
    "X_test['isFraud'] = y_test\n",
    "X_train = X_train[X_train.isFraud == 0]\n",
    "X_train = X_train.drop(['isFraud'], axis=1)\n",
    "y_test = X_test['isFraud']\n",
    "X_test = X_test.drop(['isFraud'], axis=1)\n",
    "X_train = X_train.values\n",
    "X_test = X_test.values\n",
    "X_train.shape"
   ]
  },
  {
   "cell_type": "code",
   "execution_count": 114,
   "metadata": {},
   "outputs": [],
   "source": [
    "input_dim = X_train.shape[1]\n",
    "encoding_dim = 14\n",
    "input_layer = Input(shape=(input_dim, ))\n",
    "encoder = Dense(encoding_dim, activation=\"relu\", activity_regularizer=regularizers.l1(10e-5))(input_layer)\n",
    "encoder = Dense(int(encoding_dim / 2), activation=\"relu\")(encoder)\n",
    "decoder = Dense(int(encoding_dim / 2), activation='relu')(encoder)\n",
    "decoder = Dense(input_dim, activation='relu')(decoder)\n",
    "autoencoder = Model(inputs=input_layer, outputs=decoder)"
   ]
  },
  {
   "cell_type": "code",
   "execution_count": 118,
   "metadata": {},
   "outputs": [
    {
     "name": "stdout",
     "output_type": "stream",
     "text": [
      "Train on 619156 samples, validate on 157273 samples\n",
      "Epoch 1/20\n",
      "619156/619156 [==============================] - 19s 31us/step - loss: 30107.4390 - accuracy: 0.8191 - val_loss: 30124.3282 - val_accuracy: 0.7317\n",
      "Epoch 2/20\n",
      "619156/619156 [==============================] - 20s 32us/step - loss: 30105.1315 - accuracy: 0.8186 - val_loss: 30062.5232 - val_accuracy: 0.6896\n",
      "Epoch 3/20\n",
      "619156/619156 [==============================] - 22s 35us/step - loss: 30088.2405 - accuracy: 0.8169 - val_loss: 30446.3852 - val_accuracy: 0.6418\n"
     ]
    }
   ],
   "source": [
    "nb_epoch = 20\n",
    "batch_size = 32\n",
    "autoencoder.compile(optimizer='adam', loss='mean_squared_error', metrics=['accuracy'])\n",
    "es = EarlyStopping(monitor='val_loss')\n",
    "checkpointer = ModelCheckpoint(filepath=\"model.h5\",\n",
    "                               verbose=0,\n",
    "                               save_best_only=True)\n",
    "tensorboard = TensorBoard(log_dir='./logs',histogram_freq=0,\n",
    "                          write_graph=True,\n",
    "                          write_images=True)\n",
    "history = autoencoder.fit(X_train, X_train,\n",
    "                    epochs=nb_epoch,\n",
    "                    batch_size=batch_size,\n",
    "                    shuffle=True,\n",
    "                    validation_data=(X_test, X_test),\n",
    "                    verbose=1, callbacks = [es]).history"
   ]
  },
  {
   "cell_type": "code",
   "execution_count": 120,
   "metadata": {},
   "outputs": [
    {
     "data": {
      "text/html": [
       "<div>\n",
       "<style scoped>\n",
       "    .dataframe tbody tr th:only-of-type {\n",
       "        vertical-align: middle;\n",
       "    }\n",
       "\n",
       "    .dataframe tbody tr th {\n",
       "        vertical-align: top;\n",
       "    }\n",
       "\n",
       "    .dataframe thead th {\n",
       "        text-align: right;\n",
       "    }\n",
       "</style>\n",
       "<table border=\"1\" class=\"dataframe\">\n",
       "  <thead>\n",
       "    <tr style=\"text-align: right;\">\n",
       "      <th></th>\n",
       "      <th>reconstruction_error</th>\n",
       "      <th>true_class</th>\n",
       "    </tr>\n",
       "  </thead>\n",
       "  <tbody>\n",
       "    <tr>\n",
       "      <th>count</th>\n",
       "      <td>157273.000</td>\n",
       "      <td>157273.000</td>\n",
       "    </tr>\n",
       "    <tr>\n",
       "      <th>mean</th>\n",
       "      <td>30363.080</td>\n",
       "      <td>0.016</td>\n",
       "    </tr>\n",
       "    <tr>\n",
       "      <th>std</th>\n",
       "      <td>108147.662</td>\n",
       "      <td>0.125</td>\n",
       "    </tr>\n",
       "    <tr>\n",
       "      <th>min</th>\n",
       "      <td>138.256</td>\n",
       "      <td>0.000</td>\n",
       "    </tr>\n",
       "    <tr>\n",
       "      <th>25%</th>\n",
       "      <td>2468.299</td>\n",
       "      <td>0.000</td>\n",
       "    </tr>\n",
       "    <tr>\n",
       "      <th>50%</th>\n",
       "      <td>4935.209</td>\n",
       "      <td>0.000</td>\n",
       "    </tr>\n",
       "    <tr>\n",
       "      <th>75%</th>\n",
       "      <td>10945.279</td>\n",
       "      <td>0.000</td>\n",
       "    </tr>\n",
       "    <tr>\n",
       "      <th>max</th>\n",
       "      <td>1483334.606</td>\n",
       "      <td>1.000</td>\n",
       "    </tr>\n",
       "  </tbody>\n",
       "</table>\n",
       "</div>"
      ],
      "text/plain": [
       "       reconstruction_error  true_class\n",
       "count            157273.000  157273.000\n",
       "mean              30363.080       0.016\n",
       "std              108147.662       0.125\n",
       "min                 138.256       0.000\n",
       "25%                2468.299       0.000\n",
       "50%                4935.209       0.000\n",
       "75%               10945.279       0.000\n",
       "max             1483334.606       1.000"
      ]
     },
     "execution_count": 120,
     "metadata": {},
     "output_type": "execute_result"
    }
   ],
   "source": [
    "predictions = autoencoder.predict(X_test)\n",
    "mse = np.mean(np.power(X_test - predictions, 2), axis=1)\n",
    "error_df = pd.DataFrame({'reconstruction_error': mse,\n",
    "                        'true_class': y_test})\n",
    "error_df.describe()"
   ]
  },
  {
   "cell_type": "code",
   "execution_count": 121,
   "metadata": {},
   "outputs": [],
   "source": [
    "fpr, tpr, thresholds = roc_curve(error_df.true_class, error_df.reconstruction_error)\n",
    "print('AUC of the model'+str(auc(fpr, tpr)))\n",
    "\n",
    "\n"
   ]
  },
  {
   "cell_type": "code",
   "execution_count": 124,
   "metadata": {},
   "outputs": [
    {
     "data": {
      "image/png": "[encoded data removed]",
      "text/plain": [
       "<Figure size 432x288 with 1 Axes>"
      ]
     },
     "metadata": {},
     "output_type": "display_data"
    }
   ],
   "source": [
    "plt.plot(fpr, tpr)\n",
    "plt.plot([0,1],[0,1],'r--')\n",
    "plt.ylabel('True Positive Rate')\n",
    "plt.xlabel('False Positive Rate')\n",
    "plt.show()"
   ]
  },
  {
   "cell_type": "code",
   "execution_count": null,
   "metadata": {},
   "outputs": [],
   "source": []
  }
 ],
 "metadata": {
  "colab": {
   "name": "Challenge_finalversion_(1).ipynb",
   "provenance": [],
   "toc_visible": true
  },
  "kernelspec": {
   "display_name": "Python 3",
   "language": "python",
   "name": "python3"
  },
  "language_info": {
   "codemirror_mode": {
    "name": "ipython",
    "version": 3
   },
   "file_extension": ".py",
   "mimetype": "text/x-python",
   "name": "python",
   "nbconvert_exporter": "python",
   "pygments_lexer": "ipython3",
   "version": "3.7.6"
  }
 },
 "nbformat": 4,
 "nbformat_minor": 4
}
